{
 "cells": [
  {
   "cell_type": "code",
   "execution_count": 1,
   "metadata": {},
   "outputs": [],
   "source": [
    "import os"
   ]
  },
  {
   "cell_type": "code",
   "execution_count": 2,
   "metadata": {},
   "outputs": [
    {
     "data": {
      "text/plain": [
       "'/home/user/Documents/ML PROJECTS/EndToEndRedWineQualityMLProject/research'"
      ]
     },
     "execution_count": 2,
     "metadata": {},
     "output_type": "execute_result"
    }
   ],
   "source": [
    "%pwd"
   ]
  },
  {
   "cell_type": "code",
   "execution_count": 3,
   "metadata": {},
   "outputs": [
    {
     "name": "stdout",
     "output_type": "stream",
     "text": [
      "[Errno 2] No such file or directory: 'EndToEndRedWineQualityMLProject'\n",
      "/home/user/Documents/ML PROJECTS/EndToEndRedWineQualityMLProject/research\n"
     ]
    }
   ],
   "source": [
    "%cd EndToEndRedWineQualityMLProject"
   ]
  },
  {
   "cell_type": "code",
   "execution_count": 4,
   "metadata": {},
   "outputs": [],
   "source": [
    "os.chdir('../')"
   ]
  },
  {
   "cell_type": "code",
   "execution_count": 5,
   "metadata": {},
   "outputs": [
    {
     "data": {
      "text/plain": [
       "'/home/user/Documents/ML PROJECTS/EndToEndRedWineQualityMLProject'"
      ]
     },
     "execution_count": 5,
     "metadata": {},
     "output_type": "execute_result"
    }
   ],
   "source": [
    "%pwd"
   ]
  },
  {
   "cell_type": "code",
   "execution_count": 6,
   "metadata": {},
   "outputs": [],
   "source": [
    "from dataclasses import dataclass\n",
    "from pathlib import Path\n",
    "@dataclass(frozen=True)\n",
    "class ModelEvaluationConfig:\n",
    "    root_dir: Path\n",
    "    test_data_path: Path\n",
    "    model_path: Path\n",
    "    scaler_path: Path\n",
    "    metrics_file_name: Path\n",
    "    target_column: str\n"
   ]
  },
  {
   "cell_type": "code",
   "execution_count": 7,
   "metadata": {},
   "outputs": [],
   "source": [
    "from RedWineQualityMLProject.constants import *\n",
    "from RedWineQualityMLProject.utils.common import read_yaml,create_directories\n",
    "class ConfigurationManager:\n",
    "    def __init__(self, config_file_path=CONFIG_FILE_PATH, params_file_path=PARAMS_FILE_PATH, schema_file_path=SCHEMA_FILE_PATH):\n",
    "        self.config = read_yaml(config_file_path)\n",
    "        self.params = read_yaml(schema_file_path)\n",
    "        self.schema = read_yaml(schema_file_path)\n",
    "        create_directories(self.config.artifacts_root)\n",
    "    def get_modelEvaluation_config(self)->ModelEvaluationConfig:\n",
    "        config = self.config.model_evaluation\n",
    "        schema = self.schema.TARGET_COLUMN\n",
    "        create_directories(config.root_dir)\n",
    "        return ModelEvaluationConfig(root_dir=config.root_dir, test_data_path=config.test_data_path, model_path=config.model_path,scaler_path=config.scaler_path,metrics_file_name=config.metrics_file_name,target_column=schema.name )\n",
    "    "
   ]
  },
  {
   "cell_type": "code",
   "execution_count": 8,
   "metadata": {},
   "outputs": [],
   "source": [
    "import pandas as pd\n",
    "import numpy as np\n",
    "import pickle as pkl\n",
    "from RedWineQualityMLProject.utils.common import save_json\n",
    "from RedWineQualityMLProject import logger\n",
    "from sklearn.metrics import r2_score,mean_absolute_error,mean_squared_error\n"
   ]
  },
  {
   "cell_type": "code",
   "execution_count": 9,
   "metadata": {},
   "outputs": [],
   "source": [
    "class ModelEvaluation:\n",
    "    def __init__(self,config:ModelEvaluationConfig):\n",
    "        self.config = config\n",
    "    def calc_metrics(self,y_test,y_test_pred):\n",
    "        r2 = r2_score(y_test, y_test_pred)\n",
    "        mae = mean_absolute_error(y_test, y_test_pred)\n",
    "        rmse = np.sqrt(mean_squared_error(y_test, y_test_pred))\n",
    "        return r2, mae, rmse\n",
    "    def evaluate(self):\n",
    "        with open(self.config.model_path,'rb') as f:\n",
    "            model = pkl.load(f)\n",
    "        with open(self.config.scaler_path,'rb') as f:\n",
    "            scaler = pkl.load(f)\n",
    "        test_data = pd.read_csv(self.config.test_data_path)\n",
    "        x_test = test_data.drop(self.config.target_column, axis = 1)\n",
    "        y_test = test_data[self.config.target_column]\n",
    "        x_test = scaler.transform(x_test)\n",
    "        y_test_pred = model.predict(x_test)\n",
    "        r2, mae, rmse = self.calc_metrics(y_test,y_test_pred)\n",
    "        logger.info('Model Evaluation Completed Successfully')\n",
    "        logger.info(f'Metrics are r2 = {r2}, mae={mae}, rmse={rmse}')\n",
    "        scores = {'r2':r2,'mae': mae, 'mse': rmse}\n",
    "        save_json(path= Path(self.config.metrics_file_name), data=scores) \n",
    "\n",
    "\n",
    "        \n",
    "\n",
    "\n"
   ]
  },
  {
   "cell_type": "code",
   "execution_count": 11,
   "metadata": {},
   "outputs": [
    {
     "name": "stdout",
     "output_type": "stream",
     "text": [
      "[2023-10-01 15:14:27,263: INFO: common: yaml file: config/config.yaml loaded successfully]\n",
      "[2023-10-01 15:14:27,301: INFO: common: yaml file: schema.yaml loaded successfully]\n",
      "[2023-10-01 15:14:27,337: INFO: common: yaml file: schema.yaml loaded successfully]\n",
      "[2023-10-01 15:14:27,346: INFO: common: created directory at: artifacts]\n",
      "[2023-10-01 15:14:27,353: INFO: common: created directory at: artifacts/model_evaluation]\n",
      "[2023-10-01 15:14:27,583: INFO: 2507249269: Model Evaluation Completed Successfully]\n",
      "[2023-10-01 15:14:27,594: INFO: 2507249269: Metrics are r2 = 0.48761283152311186, mae=0.42245000000000005, rmse=0.5629915629918445]\n",
      "[2023-10-01 15:14:27,603: INFO: common: json file saved at : artifacts/model_evaluation/metrics.json]\n"
     ]
    }
   ],
   "source": [
    "try:\n",
    "    config = ConfigurationManager()\n",
    "    model_evaluation_config = config.get_modelEvaluation_config()\n",
    "    model_evalution = ModelEvaluation(config=model_evaluation_config)\n",
    "    model_evalution.evaluate()\n",
    "except Exception as e:\n",
    "    raise e\n"
   ]
  },
  {
   "cell_type": "code",
   "execution_count": null,
   "metadata": {},
   "outputs": [],
   "source": []
  }
 ],
 "metadata": {
  "kernelspec": {
   "display_name": "redwine",
   "language": "python",
   "name": "python3"
  },
  "language_info": {
   "codemirror_mode": {
    "name": "ipython",
    "version": 3
   },
   "file_extension": ".py",
   "mimetype": "text/x-python",
   "name": "python",
   "nbconvert_exporter": "python",
   "pygments_lexer": "ipython3",
   "version": "3.8.0"
  },
  "orig_nbformat": 4
 },
 "nbformat": 4,
 "nbformat_minor": 2
}
